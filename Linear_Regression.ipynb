{
  "nbformat": 4,
  "nbformat_minor": 0,
  "metadata": {
    "colab": {
      "provenance": [],
      "authorship_tag": "ABX9TyPKwUa0S5QhbGJKZEIGm3Go",
      "include_colab_link": true
    },
    "kernelspec": {
      "name": "python3",
      "display_name": "Python 3"
    },
    "language_info": {
      "name": "python"
    }
  },
  "cells": [
    {
      "cell_type": "markdown",
      "metadata": {
        "id": "view-in-github",
        "colab_type": "text"
      },
      "source": [
        "<a href=\"https://colab.research.google.com/github/daniyah-rehman/MachineLearningTutorial/blob/main/Linear_Regression.ipynb\" target=\"_parent\"><img src=\"https://colab.research.google.com/assets/colab-badge.svg\" alt=\"Open In Colab\"/></a>"
      ]
    },
    {
      "cell_type": "code",
      "source": [
        "import numpy as np\n",
        "import pandas as pd\n",
        "import matplotlib.pyplot as plt"
      ],
      "metadata": {
        "id": "vZV1EvCUPK9V"
      },
      "execution_count": 1,
      "outputs": []
    },
    {
      "cell_type": "code",
      "source": [
        "X = np.random.randint(0, 20, 100)\n",
        "noise = np.random.randn(100)*2\n",
        "Y = 3*X + 1 + noise"
      ],
      "metadata": {
        "id": "o7rstOxxQXgt"
      },
      "execution_count": 2,
      "outputs": []
    },
    {
      "cell_type": "code",
      "source": [
        "X.shape"
      ],
      "metadata": {
        "colab": {
          "base_uri": "https://localhost:8080/"
        },
        "id": "gR6JIKulTGHp",
        "outputId": "3c68a35c-2b91-4404-a2a8-658a5e1608f9"
      },
      "execution_count": 3,
      "outputs": [
        {
          "output_type": "execute_result",
          "data": {
            "text/plain": [
              "(100,)"
            ]
          },
          "metadata": {},
          "execution_count": 3
        }
      ]
    },
    {
      "cell_type": "code",
      "source": [
        "X"
      ],
      "metadata": {
        "colab": {
          "base_uri": "https://localhost:8080/"
        },
        "id": "_md6CSW6TL1t",
        "outputId": "1d6acbb2-4ad8-407d-b886-16422e4d1a7c"
      },
      "execution_count": 4,
      "outputs": [
        {
          "output_type": "execute_result",
          "data": {
            "text/plain": [
              "array([17,  3, 15, 10, 12,  1,  9,  2, 10,  3, 17, 14,  8, 14,  7,  7,  2,\n",
              "        6,  0,  7,  1, 19,  2, 11,  1,  4, 15,  1, 16, 15,  9, 18,  6, 18,\n",
              "       14,  2,  4, 16,  5, 17,  6,  5,  3, 15,  4, 18,  0, 13,  6, 17,  4,\n",
              "        0, 17,  3,  0,  0, 10,  0, 19, 13, 10, 10,  6, 17,  0, 19, 16, 11,\n",
              "        5, 13, 17,  3, 17,  4, 16,  1,  7,  7,  8,  3, 14, 10, 13, 13,  8,\n",
              "        3,  0, 15, 11,  5,  2, 16,  6, 19, 15,  7, 16, 15,  3,  8])"
            ]
          },
          "metadata": {},
          "execution_count": 4
        }
      ]
    },
    {
      "cell_type": "code",
      "source": [
        "Y.shape"
      ],
      "metadata": {
        "colab": {
          "base_uri": "https://localhost:8080/"
        },
        "id": "zLbxol7zTS1R",
        "outputId": "28efb8f6-c34c-446f-876c-132b038acbd6"
      },
      "execution_count": 5,
      "outputs": [
        {
          "output_type": "execute_result",
          "data": {
            "text/plain": [
              "(100,)"
            ]
          },
          "metadata": {},
          "execution_count": 5
        }
      ]
    },
    {
      "cell_type": "code",
      "source": [
        "plt.scatter(X, Y)\n",
        "plt.show()"
      ],
      "metadata": {
        "colab": {
          "base_uri": "https://localhost:8080/",
          "height": 432
        },
        "id": "pa7qa5VXTdei",
        "outputId": "9cb32fb9-00a6-49e9-b3b2-21ce8a0d46cb"
      },
      "execution_count": 6,
      "outputs": [
        {
          "output_type": "display_data",
          "data": {
            "text/plain": [
              "<Figure size 640x480 with 1 Axes>"
            ],
            "image/png": "[encoded data removed]"
          },
          "metadata": {}
        }
      ]
    },
    {
      "cell_type": "code",
      "source": [
        "X.shape"
      ],
      "metadata": {
        "colab": {
          "base_uri": "https://localhost:8080/"
        },
        "id": "sJUOvoewPvKW",
        "outputId": "15dab1aa-f093-4182-f452-431f674128c5"
      },
      "execution_count": 7,
      "outputs": [
        {
          "output_type": "execute_result",
          "data": {
            "text/plain": [
              "(100,)"
            ]
          },
          "metadata": {},
          "execution_count": 7
        }
      ]
    },
    {
      "cell_type": "code",
      "source": [
        "def hypothesis(x, weights):\n",
        "    '''\n",
        "    x : real input value (time spent)\n",
        "    weights : list of w0 and w\n",
        "    '''\n",
        "    y_hat = weights[0] + weights[1]*x\n",
        "    return y_hat"
      ],
      "metadata": {
        "id": "Lko62lXWP1fq"
      },
      "execution_count": 8,
      "outputs": []
    },
    {
      "cell_type": "code",
      "source": [
        "hypothesis(2.5, [0, 3])"
      ],
      "metadata": {
        "colab": {
          "base_uri": "https://localhost:8080/"
        },
        "id": "ltPeblyPQDjG",
        "outputId": "7b977f82-5a9f-4baa-8e3d-690017ebe6b7"
      },
      "execution_count": 9,
      "outputs": [
        {
          "output_type": "execute_result",
          "data": {
            "text/plain": [
              "7.5"
            ]
          },
          "metadata": {},
          "execution_count": 9
        }
      ]
    },
    {
      "cell_type": "code",
      "source": [
        "def error(X, Y, weights):\n",
        "    '''\n",
        "    X : input n data points\n",
        "    Y : target n data points\n",
        "    weights : list of w0 and w1\n",
        "    '''\n",
        "    n = X.shape[0]\n",
        "    total_err = 0.0\n",
        "    for i in range(n):\n",
        "        y_hat_i = hypothesis(X[i], weights)\n",
        "        total_err += (Y[i] - y_hat_i)**2\n",
        "\n",
        "    return total_err/n"
      ],
      "metadata": {
        "id": "yBWZB_DoQJCy"
      },
      "execution_count": 10,
      "outputs": []
    },
    {
      "cell_type": "code",
      "source": [
        "np.zeros(15)"
      ],
      "metadata": {
        "colab": {
          "base_uri": "https://localhost:8080/"
        },
        "id": "mxd4PKGFQI_S",
        "outputId": "990a4904-63c5-4c45-955c-5a0068236470"
      },
      "execution_count": 11,
      "outputs": [
        {
          "output_type": "execute_result",
          "data": {
            "text/plain": [
              "array([0., 0., 0., 0., 0., 0., 0., 0., 0., 0., 0., 0., 0., 0., 0.])"
            ]
          },
          "metadata": {},
          "execution_count": 11
        }
      ]
    },
    {
      "cell_type": "code",
      "source": [
        "def gradient(X, Y, weights):\n",
        "    n = X.shape[0]\n",
        "    grad = np.zeros(2) # np.array([0,0])\n",
        "\n",
        "    for i in range(n):\n",
        "        y_hat_i = hypothesis(X[i], weights)\n",
        "\n",
        "        grad[0] += (y_hat_i - Y[i])\n",
        "\n",
        "        grad[1] += ((y_hat_i - Y[i])*X[i])\n",
        "\n",
        "    return 2*grad/n"
      ],
      "metadata": {
        "id": "6jooO-UFQI9b"
      },
      "execution_count": 12,
      "outputs": []
    },
    {
      "cell_type": "code",
      "source": [
        "def gradient_descent(X, Y, max_itr = 50, learning_rate = 0.001):\n",
        "    # step 1 : init() randomly\n",
        "\n",
        "    weights = np.random.randn(2)\n",
        "\n",
        "    error_list = []\n",
        "\n",
        "    # step 2 repeate until convergence\n",
        "    for i in range(max_itr):\n",
        "\n",
        "        e = error(X, Y, weights)\n",
        "        error_list.append(e)\n",
        "\n",
        "        grad = gradient(X, Y, weights)\n",
        "\n",
        "        weights[0] = weights[0] - learning_rate*grad[0]\n",
        "        weights[1] = weights[1] - learning_rate*grad[1]\n",
        "\n",
        "\n",
        "    return weights, error_list"
      ],
      "metadata": {
        "id": "vohz1ql1QI6_"
      },
      "execution_count": 13,
      "outputs": []
    },
    {
      "cell_type": "code",
      "source": [
        "opt_weights, error_list = gradient_descent(X, Y)"
      ],
      "metadata": {
        "id": "Nsz9_LfyQI4h"
      },
      "execution_count": 14,
      "outputs": []
    },
    {
      "cell_type": "code",
      "source": [
        "opt_weights.round()"
      ],
      "metadata": {
        "colab": {
          "base_uri": "https://localhost:8080/"
        },
        "id": "9V-7yG13QI2M",
        "outputId": "a4c2705b-9510-4748-cf8e-0fd24abc2e5a"
      },
      "execution_count": 15,
      "outputs": [
        {
          "output_type": "execute_result",
          "data": {
            "text/plain": [
              "array([1., 3.])"
            ]
          },
          "metadata": {},
          "execution_count": 15
        }
      ]
    },
    {
      "cell_type": "code",
      "source": [
        "plt.plot(error_list)#error_list = gradient_descent(X, Y)"
      ],
      "metadata": {
        "colab": {
          "base_uri": "https://localhost:8080/",
          "height": 447
        },
        "id": "FFdSVAC6QiI5",
        "outputId": "d53e0e68-a290-4ae1-e9fa-ac0daec67d7e"
      },
      "execution_count": 23,
      "outputs": [
        {
          "output_type": "execute_result",
          "data": {
            "text/plain": [
              "[<matplotlib.lines.Line2D at 0x79afe0738fa0>]"
            ]
          },
          "metadata": {},
          "execution_count": 23
        },
        {
          "output_type": "display_data",
          "data": {
            "text/plain": [
              "<Figure size 640x480 with 1 Axes>"
            ],
            "image/png": "[encoded data removed]"
          },
          "metadata": {}
        }
      ]
    },
    {
      "cell_type": "code",
      "source": [
        "# prediction\n",
        "hypothesis(X[0], opt_weights)"
      ],
      "metadata": {
        "colab": {
          "base_uri": "https://localhost:8080/"
        },
        "id": "qnJtQbmdQiFq",
        "outputId": "b294157c-c88b-48b2-8a8f-db5624437db3"
      },
      "execution_count": 17,
      "outputs": [
        {
          "output_type": "execute_result",
          "data": {
            "text/plain": [
              "51.84778739510003"
            ]
          },
          "metadata": {},
          "execution_count": 17
        }
      ]
    },
    {
      "cell_type": "code",
      "source": [
        "Y[0]"
      ],
      "metadata": {
        "colab": {
          "base_uri": "https://localhost:8080/"
        },
        "id": "FxXidJ9RQiD0",
        "outputId": "5554f2b6-bba6-4ca1-e358-0546dda87f9d"
      },
      "execution_count": 18,
      "outputs": [
        {
          "output_type": "execute_result",
          "data": {
            "text/plain": [
              "53.74524949541932"
            ]
          },
          "metadata": {},
          "execution_count": 18
        }
      ]
    },
    {
      "cell_type": "code",
      "source": [
        "x = 0\n",
        "opt_weights[1]*x + opt_weights[0]  # y  = w*x + w0  (y = m x + c)"
      ],
      "metadata": {
        "colab": {
          "base_uri": "https://localhost:8080/"
        },
        "id": "Wt3dQtIiQiBf",
        "outputId": "18d9ff22-54de-4910-b968-ada5e85ef20e"
      },
      "execution_count": 19,
      "outputs": [
        {
          "output_type": "execute_result",
          "data": {
            "text/plain": [
              "1.0862591443719805"
            ]
          },
          "metadata": {},
          "execution_count": 19
        }
      ]
    },
    {
      "cell_type": "code",
      "source": [
        "x = 19\n",
        "opt_weights[1]*x + opt_weights[0]  # y  = w*x + w0  (y = m x + c)"
      ],
      "metadata": {
        "colab": {
          "base_uri": "https://localhost:8080/"
        },
        "id": "qXIzLbErQIBW",
        "outputId": "77abd7c4-c94a-4b78-b7c9-67030ef28b5e"
      },
      "execution_count": 20,
      "outputs": [
        {
          "output_type": "execute_result",
          "data": {
            "text/plain": [
              "57.819731895185676"
            ]
          },
          "metadata": {},
          "execution_count": 20
        }
      ]
    },
    {
      "cell_type": "code",
      "source": [
        "x1, y1 = 0, 0.69\n",
        "x2, y2 = 19, 58.21"
      ],
      "metadata": {
        "id": "OntU7DzWQ3oG"
      },
      "execution_count": 21,
      "outputs": []
    },
    {
      "cell_type": "code",
      "source": [
        "plt.scatter(X, Y)\n",
        "plt.plot([x1,x2], [y1, y2], color='red')\n",
        "plt.plot()"
      ],
      "metadata": {
        "colab": {
          "base_uri": "https://localhost:8080/",
          "height": 447
        },
        "id": "56iax1U-Q3ko",
        "outputId": "62b25503-30c9-44fc-9580-c79facc03cf2"
      },
      "execution_count": 22,
      "outputs": [
        {
          "output_type": "execute_result",
          "data": {
            "text/plain": [
              "[]"
            ]
          },
          "metadata": {},
          "execution_count": 22
        },
        {
          "output_type": "display_data",
          "data": {
            "text/plain": [
              "<Figure size 640x480 with 1 Axes>"
            ],
            "image/png": "[encoded data removed]"
          },
          "metadata": {}
        }
      ]
    },
    {
      "cell_type": "code",
      "source": [],
      "metadata": {
        "id": "ZlHZ1ZkKQ3iT"
      },
      "execution_count": null,
      "outputs": []
    }
  ]
}